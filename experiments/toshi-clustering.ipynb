{
 "cells": [
  {
   "cell_type": "markdown",
   "metadata": {},
   "source": [
    "Tem vários jeitos de classificar as amostras por tipo de movimento do olhar (fixação, sacada, smooth pursuit, etc). Como você só está interessado em fixações, talvez o jeito mais simples seja um processamento online: você sempre guarda a fixação atual (lista de pontos + centroide atualizado + última amostra). Se a velocidade (posição atual - posição anterior) for menor do que um threshold, você adiciona na fixação atual. Senão você termina a fixação anterior e começa uma nova"
   ]
  },
  {
   "cell_type": "code",
   "execution_count": null,
   "metadata": {},
   "outputs": [],
   "source": []
  }
 ],
 "metadata": {
  "language_info": {
   "name": "python"
  }
 },
 "nbformat": 4,
 "nbformat_minor": 2
}
